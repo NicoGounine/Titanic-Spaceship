{
 "cells": [
  {
   "cell_type": "code",
   "execution_count": 1,
   "id": "d4b2b387",
   "metadata": {
    "_cell_guid": "b1076dfc-b9ad-4769-8c92-a6c4dae69d19",
    "_uuid": "8f2839f25d086af736a60e9eeb907d3b93b6e0e5",
    "execution": {
     "iopub.execute_input": "2022-08-10T10:00:52.493782Z",
     "iopub.status.busy": "2022-08-10T10:00:52.492843Z",
     "iopub.status.idle": "2022-08-10T10:00:52.511935Z",
     "shell.execute_reply": "2022-08-10T10:00:52.511161Z"
    },
    "papermill": {
     "duration": 0.031992,
     "end_time": "2022-08-10T10:00:52.514521",
     "exception": false,
     "start_time": "2022-08-10T10:00:52.482529",
     "status": "completed"
    },
    "tags": []
   },
   "outputs": [
    {
     "name": "stdout",
     "output_type": "stream",
     "text": [
      "../input/spaceship-titanic/sample_submission.csv\n",
      "../input/spaceship-titanic/train.csv\n",
      "../input/spaceship-titanic/test.csv\n"
     ]
    }
   ],
   "source": [
    "import numpy as np \n",
    "import pandas as pd\n",
    "import os\n",
    "for dirname, _, filenames in os.walk('../input/spaceship-titanic'):\n",
    "    for filename in filenames:\n",
    "        print(os.path.join(dirname, filename))"
   ]
  },
  {
   "cell_type": "code",
   "execution_count": 2,
   "id": "6349f226",
   "metadata": {
    "execution": {
     "iopub.execute_input": "2022-08-10T10:00:52.531745Z",
     "iopub.status.busy": "2022-08-10T10:00:52.531321Z",
     "iopub.status.idle": "2022-08-10T10:00:52.603182Z",
     "shell.execute_reply": "2022-08-10T10:00:52.602122Z"
    },
    "papermill": {
     "duration": 0.083308,
     "end_time": "2022-08-10T10:00:52.606072",
     "exception": false,
     "start_time": "2022-08-10T10:00:52.522764",
     "status": "completed"
    },
    "tags": []
   },
   "outputs": [],
   "source": [
    "train_data = pd.read_csv(\"../input/spaceship-titanic/train.csv\")\n",
    "test_data = pd.read_csv(\"../input/spaceship-titanic/test.csv\")"
   ]
  },
  {
   "cell_type": "code",
   "execution_count": 3,
   "id": "adb64f1c",
   "metadata": {
    "execution": {
     "iopub.execute_input": "2022-08-10T10:00:52.623259Z",
     "iopub.status.busy": "2022-08-10T10:00:52.622188Z",
     "iopub.status.idle": "2022-08-10T10:00:52.656340Z",
     "shell.execute_reply": "2022-08-10T10:00:52.654943Z"
    },
    "papermill": {
     "duration": 0.045398,
     "end_time": "2022-08-10T10:00:52.659007",
     "exception": false,
     "start_time": "2022-08-10T10:00:52.613609",
     "status": "completed"
    },
    "tags": []
   },
   "outputs": [
    {
     "name": "stdout",
     "output_type": "stream",
     "text": [
      "<class 'pandas.core.frame.DataFrame'>\n",
      "RangeIndex: 8693 entries, 0 to 8692\n",
      "Data columns (total 14 columns):\n",
      " #   Column        Non-Null Count  Dtype  \n",
      "---  ------        --------------  -----  \n",
      " 0   PassengerId   8693 non-null   object \n",
      " 1   HomePlanet    8492 non-null   object \n",
      " 2   CryoSleep     8476 non-null   object \n",
      " 3   Cabin         8494 non-null   object \n",
      " 4   Destination   8511 non-null   object \n",
      " 5   Age           8514 non-null   float64\n",
      " 6   VIP           8490 non-null   object \n",
      " 7   RoomService   8512 non-null   float64\n",
      " 8   FoodCourt     8510 non-null   float64\n",
      " 9   ShoppingMall  8485 non-null   float64\n",
      " 10  Spa           8510 non-null   float64\n",
      " 11  VRDeck        8505 non-null   float64\n",
      " 12  Name          8493 non-null   object \n",
      " 13  Transported   8693 non-null   bool   \n",
      "dtypes: bool(1), float64(6), object(7)\n",
      "memory usage: 891.5+ KB\n"
     ]
    }
   ],
   "source": [
    "train_data.info()"
   ]
  },
  {
   "cell_type": "code",
   "execution_count": 4,
   "id": "36887c50",
   "metadata": {
    "execution": {
     "iopub.execute_input": "2022-08-10T10:00:52.675884Z",
     "iopub.status.busy": "2022-08-10T10:00:52.674923Z",
     "iopub.status.idle": "2022-08-10T10:00:52.681888Z",
     "shell.execute_reply": "2022-08-10T10:00:52.680665Z"
    },
    "papermill": {
     "duration": 0.017946,
     "end_time": "2022-08-10T10:00:52.684273",
     "exception": false,
     "start_time": "2022-08-10T10:00:52.666327",
     "status": "completed"
    },
    "tags": []
   },
   "outputs": [],
   "source": [
    "train_data.set_index('PassengerId',inplace=True)\n",
    "test_data.set_index('PassengerId',inplace=True)"
   ]
  },
  {
   "cell_type": "code",
   "execution_count": 5,
   "id": "cd067db0",
   "metadata": {
    "execution": {
     "iopub.execute_input": "2022-08-10T10:00:52.701271Z",
     "iopub.status.busy": "2022-08-10T10:00:52.700534Z",
     "iopub.status.idle": "2022-08-10T10:00:52.713922Z",
     "shell.execute_reply": "2022-08-10T10:00:52.712833Z"
    },
    "papermill": {
     "duration": 0.02462,
     "end_time": "2022-08-10T10:00:52.716439",
     "exception": false,
     "start_time": "2022-08-10T10:00:52.691819",
     "status": "completed"
    },
    "tags": []
   },
   "outputs": [],
   "source": [
    "train_data[['RoomService','FoodCourt','ShoppingMall','Spa','VRDeck']] = train_data[['RoomService','FoodCourt','ShoppingMall','Spa','VRDeck']].fillna(0)\n",
    "test_data[['RoomService','FoodCourt','ShoppingMall','Spa','VRDeck']] = test_data[['RoomService','FoodCourt','ShoppingMall','Spa','VRDeck']].fillna(0)"
   ]
  },
  {
   "cell_type": "code",
   "execution_count": 6,
   "id": "0e0ea769",
   "metadata": {
    "execution": {
     "iopub.execute_input": "2022-08-10T10:00:52.733506Z",
     "iopub.status.busy": "2022-08-10T10:00:52.732427Z",
     "iopub.status.idle": "2022-08-10T10:00:52.742631Z",
     "shell.execute_reply": "2022-08-10T10:00:52.741483Z"
    },
    "papermill": {
     "duration": 0.021135,
     "end_time": "2022-08-10T10:00:52.745022",
     "exception": false,
     "start_time": "2022-08-10T10:00:52.723887",
     "status": "completed"
    },
    "tags": []
   },
   "outputs": [],
   "source": [
    "train_data['Age'] =train_data['Age'].fillna(train_data['Age'].median())\n",
    "test_data['Age'] =test_data['Age'].fillna(test_data['Age'].median())"
   ]
  },
  {
   "cell_type": "code",
   "execution_count": 7,
   "id": "1c3529eb",
   "metadata": {
    "execution": {
     "iopub.execute_input": "2022-08-10T10:00:52.761419Z",
     "iopub.status.busy": "2022-08-10T10:00:52.761014Z",
     "iopub.status.idle": "2022-08-10T10:00:52.771003Z",
     "shell.execute_reply": "2022-08-10T10:00:52.769928Z"
    },
    "papermill": {
     "duration": 0.021072,
     "end_time": "2022-08-10T10:00:52.773438",
     "exception": false,
     "start_time": "2022-08-10T10:00:52.752366",
     "status": "completed"
    },
    "tags": []
   },
   "outputs": [],
   "source": [
    "train_data['VIP'] =train_data['VIP'].fillna(False)\n",
    "test_data['VIP'] =test_data['VIP'].fillna(False)"
   ]
  },
  {
   "cell_type": "code",
   "execution_count": 8,
   "id": "f29156fb",
   "metadata": {
    "execution": {
     "iopub.execute_input": "2022-08-10T10:00:52.789753Z",
     "iopub.status.busy": "2022-08-10T10:00:52.789329Z",
     "iopub.status.idle": "2022-08-10T10:00:52.797255Z",
     "shell.execute_reply": "2022-08-10T10:00:52.796124Z"
    },
    "papermill": {
     "duration": 0.018617,
     "end_time": "2022-08-10T10:00:52.799443",
     "exception": false,
     "start_time": "2022-08-10T10:00:52.780826",
     "status": "completed"
    },
    "tags": []
   },
   "outputs": [],
   "source": [
    "train_data['Destination']=train_data['Destination'].fillna(\"PSO J318.5-22\")\n",
    "test_data['Destination']=test_data['Destination'].fillna(\"PSO J318.5-22\")"
   ]
  },
  {
   "cell_type": "code",
   "execution_count": 9,
   "id": "86c3270f",
   "metadata": {
    "execution": {
     "iopub.execute_input": "2022-08-10T10:00:52.815994Z",
     "iopub.status.busy": "2022-08-10T10:00:52.815621Z",
     "iopub.status.idle": "2022-08-10T10:00:52.824116Z",
     "shell.execute_reply": "2022-08-10T10:00:52.823333Z"
    },
    "papermill": {
     "duration": 0.018707,
     "end_time": "2022-08-10T10:00:52.826082",
     "exception": false,
     "start_time": "2022-08-10T10:00:52.807375",
     "status": "completed"
    },
    "tags": []
   },
   "outputs": [],
   "source": [
    "train_data['CryoSleep'] =train_data['CryoSleep'].fillna(False)\n",
    "test_data['CryoSleep'] =test_data['CryoSleep'].fillna(False)"
   ]
  },
  {
   "cell_type": "code",
   "execution_count": 10,
   "id": "207aa8a8",
   "metadata": {
    "execution": {
     "iopub.execute_input": "2022-08-10T10:00:52.841975Z",
     "iopub.status.busy": "2022-08-10T10:00:52.841640Z",
     "iopub.status.idle": "2022-08-10T10:00:52.848618Z",
     "shell.execute_reply": "2022-08-10T10:00:52.847623Z"
    },
    "papermill": {
     "duration": 0.017644,
     "end_time": "2022-08-10T10:00:52.850852",
     "exception": false,
     "start_time": "2022-08-10T10:00:52.833208",
     "status": "completed"
    },
    "tags": []
   },
   "outputs": [],
   "source": [
    "train_data['Cabin'] =train_data['Cabin'].fillna('T/0/P')\n",
    "test_data['Cabin'] =test_data['Cabin'].fillna('T/0/P')"
   ]
  },
  {
   "cell_type": "code",
   "execution_count": 11,
   "id": "f69c3367",
   "metadata": {
    "execution": {
     "iopub.execute_input": "2022-08-10T10:00:52.866401Z",
     "iopub.status.busy": "2022-08-10T10:00:52.866071Z",
     "iopub.status.idle": "2022-08-10T10:00:52.878795Z",
     "shell.execute_reply": "2022-08-10T10:00:52.877096Z"
    },
    "papermill": {
     "duration": 0.024724,
     "end_time": "2022-08-10T10:00:52.882702",
     "exception": false,
     "start_time": "2022-08-10T10:00:52.857978",
     "status": "completed"
    },
    "tags": []
   },
   "outputs": [
    {
     "name": "stdout",
     "output_type": "stream",
     "text": [
      "HomePlanet      201\n",
      "Name            200\n",
      "CryoSleep         0\n",
      "Cabin             0\n",
      "Destination       0\n",
      "Age               0\n",
      "VIP               0\n",
      "RoomService       0\n",
      "FoodCourt         0\n",
      "ShoppingMall      0\n",
      "Spa               0\n",
      "VRDeck            0\n",
      "Transported       0\n",
      "dtype: int64\n",
      "Name            94\n",
      "HomePlanet      87\n",
      "CryoSleep        0\n",
      "Cabin            0\n",
      "Destination      0\n",
      "Age              0\n",
      "VIP              0\n",
      "RoomService      0\n",
      "FoodCourt        0\n",
      "ShoppingMall     0\n",
      "Spa              0\n",
      "VRDeck           0\n",
      "dtype: int64\n"
     ]
    }
   ],
   "source": [
    "print(train_data.isna().sum().nlargest(20))\n",
    "print(test_data.isna().sum().nlargest(20))"
   ]
  },
  {
   "cell_type": "code",
   "execution_count": 12,
   "id": "c69e158d",
   "metadata": {
    "execution": {
     "iopub.execute_input": "2022-08-10T10:00:52.899847Z",
     "iopub.status.busy": "2022-08-10T10:00:52.899153Z",
     "iopub.status.idle": "2022-08-10T10:00:52.933245Z",
     "shell.execute_reply": "2022-08-10T10:00:52.932055Z"
    },
    "papermill": {
     "duration": 0.045427,
     "end_time": "2022-08-10T10:00:52.935748",
     "exception": false,
     "start_time": "2022-08-10T10:00:52.890321",
     "status": "completed"
    },
    "tags": []
   },
   "outputs": [
    {
     "data": {
      "text/html": [
       "<div>\n",
       "<style scoped>\n",
       "    .dataframe tbody tr th:only-of-type {\n",
       "        vertical-align: middle;\n",
       "    }\n",
       "\n",
       "    .dataframe tbody tr th {\n",
       "        vertical-align: top;\n",
       "    }\n",
       "\n",
       "    .dataframe thead th {\n",
       "        text-align: right;\n",
       "    }\n",
       "</style>\n",
       "<table border=\"1\" class=\"dataframe\">\n",
       "  <thead>\n",
       "    <tr style=\"text-align: right;\">\n",
       "      <th></th>\n",
       "      <th>HomePlanet</th>\n",
       "      <th>CryoSleep</th>\n",
       "      <th>Cabin</th>\n",
       "      <th>Destination</th>\n",
       "      <th>Age</th>\n",
       "      <th>VIP</th>\n",
       "      <th>RoomService</th>\n",
       "      <th>FoodCourt</th>\n",
       "      <th>ShoppingMall</th>\n",
       "      <th>Spa</th>\n",
       "      <th>VRDeck</th>\n",
       "      <th>Name</th>\n",
       "      <th>Transported</th>\n",
       "    </tr>\n",
       "    <tr>\n",
       "      <th>PassengerId</th>\n",
       "      <th></th>\n",
       "      <th></th>\n",
       "      <th></th>\n",
       "      <th></th>\n",
       "      <th></th>\n",
       "      <th></th>\n",
       "      <th></th>\n",
       "      <th></th>\n",
       "      <th></th>\n",
       "      <th></th>\n",
       "      <th></th>\n",
       "      <th></th>\n",
       "      <th></th>\n",
       "    </tr>\n",
       "  </thead>\n",
       "  <tbody>\n",
       "    <tr>\n",
       "      <th>0001_01</th>\n",
       "      <td>Europa</td>\n",
       "      <td>False</td>\n",
       "      <td>B/0/P</td>\n",
       "      <td>TRAPPIST-1e</td>\n",
       "      <td>39.0</td>\n",
       "      <td>False</td>\n",
       "      <td>0.0</td>\n",
       "      <td>0.0</td>\n",
       "      <td>0.0</td>\n",
       "      <td>0.0</td>\n",
       "      <td>0.0</td>\n",
       "      <td>Maham Ofracculy</td>\n",
       "      <td>False</td>\n",
       "    </tr>\n",
       "    <tr>\n",
       "      <th>0002_01</th>\n",
       "      <td>Earth</td>\n",
       "      <td>False</td>\n",
       "      <td>F/0/S</td>\n",
       "      <td>TRAPPIST-1e</td>\n",
       "      <td>24.0</td>\n",
       "      <td>False</td>\n",
       "      <td>109.0</td>\n",
       "      <td>9.0</td>\n",
       "      <td>25.0</td>\n",
       "      <td>549.0</td>\n",
       "      <td>44.0</td>\n",
       "      <td>Juanna Vines</td>\n",
       "      <td>True</td>\n",
       "    </tr>\n",
       "    <tr>\n",
       "      <th>0003_01</th>\n",
       "      <td>Europa</td>\n",
       "      <td>False</td>\n",
       "      <td>A/0/S</td>\n",
       "      <td>TRAPPIST-1e</td>\n",
       "      <td>58.0</td>\n",
       "      <td>True</td>\n",
       "      <td>43.0</td>\n",
       "      <td>3576.0</td>\n",
       "      <td>0.0</td>\n",
       "      <td>6715.0</td>\n",
       "      <td>49.0</td>\n",
       "      <td>Altark Susent</td>\n",
       "      <td>False</td>\n",
       "    </tr>\n",
       "    <tr>\n",
       "      <th>0003_02</th>\n",
       "      <td>Europa</td>\n",
       "      <td>False</td>\n",
       "      <td>A/0/S</td>\n",
       "      <td>TRAPPIST-1e</td>\n",
       "      <td>33.0</td>\n",
       "      <td>False</td>\n",
       "      <td>0.0</td>\n",
       "      <td>1283.0</td>\n",
       "      <td>371.0</td>\n",
       "      <td>3329.0</td>\n",
       "      <td>193.0</td>\n",
       "      <td>Solam Susent</td>\n",
       "      <td>False</td>\n",
       "    </tr>\n",
       "    <tr>\n",
       "      <th>0004_01</th>\n",
       "      <td>Earth</td>\n",
       "      <td>False</td>\n",
       "      <td>F/1/S</td>\n",
       "      <td>TRAPPIST-1e</td>\n",
       "      <td>16.0</td>\n",
       "      <td>False</td>\n",
       "      <td>303.0</td>\n",
       "      <td>70.0</td>\n",
       "      <td>151.0</td>\n",
       "      <td>565.0</td>\n",
       "      <td>2.0</td>\n",
       "      <td>Willy Santantines</td>\n",
       "      <td>True</td>\n",
       "    </tr>\n",
       "    <tr>\n",
       "      <th>...</th>\n",
       "      <td>...</td>\n",
       "      <td>...</td>\n",
       "      <td>...</td>\n",
       "      <td>...</td>\n",
       "      <td>...</td>\n",
       "      <td>...</td>\n",
       "      <td>...</td>\n",
       "      <td>...</td>\n",
       "      <td>...</td>\n",
       "      <td>...</td>\n",
       "      <td>...</td>\n",
       "      <td>...</td>\n",
       "      <td>...</td>\n",
       "    </tr>\n",
       "    <tr>\n",
       "      <th>9276_01</th>\n",
       "      <td>Europa</td>\n",
       "      <td>False</td>\n",
       "      <td>A/98/P</td>\n",
       "      <td>55 Cancri e</td>\n",
       "      <td>41.0</td>\n",
       "      <td>True</td>\n",
       "      <td>0.0</td>\n",
       "      <td>6819.0</td>\n",
       "      <td>0.0</td>\n",
       "      <td>1643.0</td>\n",
       "      <td>74.0</td>\n",
       "      <td>Gravior Noxnuther</td>\n",
       "      <td>False</td>\n",
       "    </tr>\n",
       "    <tr>\n",
       "      <th>9278_01</th>\n",
       "      <td>Earth</td>\n",
       "      <td>True</td>\n",
       "      <td>G/1499/S</td>\n",
       "      <td>PSO J318.5-22</td>\n",
       "      <td>18.0</td>\n",
       "      <td>False</td>\n",
       "      <td>0.0</td>\n",
       "      <td>0.0</td>\n",
       "      <td>0.0</td>\n",
       "      <td>0.0</td>\n",
       "      <td>0.0</td>\n",
       "      <td>Kurta Mondalley</td>\n",
       "      <td>False</td>\n",
       "    </tr>\n",
       "    <tr>\n",
       "      <th>9279_01</th>\n",
       "      <td>Earth</td>\n",
       "      <td>False</td>\n",
       "      <td>G/1500/S</td>\n",
       "      <td>TRAPPIST-1e</td>\n",
       "      <td>26.0</td>\n",
       "      <td>False</td>\n",
       "      <td>0.0</td>\n",
       "      <td>0.0</td>\n",
       "      <td>1872.0</td>\n",
       "      <td>1.0</td>\n",
       "      <td>0.0</td>\n",
       "      <td>Fayey Connon</td>\n",
       "      <td>True</td>\n",
       "    </tr>\n",
       "    <tr>\n",
       "      <th>9280_01</th>\n",
       "      <td>Europa</td>\n",
       "      <td>False</td>\n",
       "      <td>E/608/S</td>\n",
       "      <td>55 Cancri e</td>\n",
       "      <td>32.0</td>\n",
       "      <td>False</td>\n",
       "      <td>0.0</td>\n",
       "      <td>1049.0</td>\n",
       "      <td>0.0</td>\n",
       "      <td>353.0</td>\n",
       "      <td>3235.0</td>\n",
       "      <td>Celeon Hontichre</td>\n",
       "      <td>False</td>\n",
       "    </tr>\n",
       "    <tr>\n",
       "      <th>9280_02</th>\n",
       "      <td>Europa</td>\n",
       "      <td>False</td>\n",
       "      <td>E/608/S</td>\n",
       "      <td>TRAPPIST-1e</td>\n",
       "      <td>44.0</td>\n",
       "      <td>False</td>\n",
       "      <td>126.0</td>\n",
       "      <td>4688.0</td>\n",
       "      <td>0.0</td>\n",
       "      <td>0.0</td>\n",
       "      <td>12.0</td>\n",
       "      <td>Propsh Hontichre</td>\n",
       "      <td>True</td>\n",
       "    </tr>\n",
       "  </tbody>\n",
       "</table>\n",
       "<p>8693 rows × 13 columns</p>\n",
       "</div>"
      ],
      "text/plain": [
       "            HomePlanet  CryoSleep     Cabin    Destination   Age    VIP  \\\n",
       "PassengerId                                                               \n",
       "0001_01         Europa      False     B/0/P    TRAPPIST-1e  39.0  False   \n",
       "0002_01          Earth      False     F/0/S    TRAPPIST-1e  24.0  False   \n",
       "0003_01         Europa      False     A/0/S    TRAPPIST-1e  58.0   True   \n",
       "0003_02         Europa      False     A/0/S    TRAPPIST-1e  33.0  False   \n",
       "0004_01          Earth      False     F/1/S    TRAPPIST-1e  16.0  False   \n",
       "...                ...        ...       ...            ...   ...    ...   \n",
       "9276_01         Europa      False    A/98/P    55 Cancri e  41.0   True   \n",
       "9278_01          Earth       True  G/1499/S  PSO J318.5-22  18.0  False   \n",
       "9279_01          Earth      False  G/1500/S    TRAPPIST-1e  26.0  False   \n",
       "9280_01         Europa      False   E/608/S    55 Cancri e  32.0  False   \n",
       "9280_02         Europa      False   E/608/S    TRAPPIST-1e  44.0  False   \n",
       "\n",
       "             RoomService  FoodCourt  ShoppingMall     Spa  VRDeck  \\\n",
       "PassengerId                                                         \n",
       "0001_01              0.0        0.0           0.0     0.0     0.0   \n",
       "0002_01            109.0        9.0          25.0   549.0    44.0   \n",
       "0003_01             43.0     3576.0           0.0  6715.0    49.0   \n",
       "0003_02              0.0     1283.0         371.0  3329.0   193.0   \n",
       "0004_01            303.0       70.0         151.0   565.0     2.0   \n",
       "...                  ...        ...           ...     ...     ...   \n",
       "9276_01              0.0     6819.0           0.0  1643.0    74.0   \n",
       "9278_01              0.0        0.0           0.0     0.0     0.0   \n",
       "9279_01              0.0        0.0        1872.0     1.0     0.0   \n",
       "9280_01              0.0     1049.0           0.0   353.0  3235.0   \n",
       "9280_02            126.0     4688.0           0.0     0.0    12.0   \n",
       "\n",
       "                          Name  Transported  \n",
       "PassengerId                                  \n",
       "0001_01        Maham Ofracculy        False  \n",
       "0002_01           Juanna Vines         True  \n",
       "0003_01          Altark Susent        False  \n",
       "0003_02           Solam Susent        False  \n",
       "0004_01      Willy Santantines         True  \n",
       "...                        ...          ...  \n",
       "9276_01      Gravior Noxnuther        False  \n",
       "9278_01        Kurta Mondalley        False  \n",
       "9279_01           Fayey Connon         True  \n",
       "9280_01       Celeon Hontichre        False  \n",
       "9280_02       Propsh Hontichre         True  \n",
       "\n",
       "[8693 rows x 13 columns]"
      ]
     },
     "execution_count": 12,
     "metadata": {},
     "output_type": "execute_result"
    }
   ],
   "source": [
    " train_data"
   ]
  },
  {
   "cell_type": "code",
   "execution_count": 13,
   "id": "23ba46e5",
   "metadata": {
    "execution": {
     "iopub.execute_input": "2022-08-10T10:00:52.953469Z",
     "iopub.status.busy": "2022-08-10T10:00:52.953108Z",
     "iopub.status.idle": "2022-08-10T10:00:54.696933Z",
     "shell.execute_reply": "2022-08-10T10:00:54.695501Z"
    },
    "papermill": {
     "duration": 1.755646,
     "end_time": "2022-08-10T10:00:54.699584",
     "exception": false,
     "start_time": "2022-08-10T10:00:52.943938",
     "status": "completed"
    },
    "tags": []
   },
   "outputs": [
    {
     "data": {
      "image/png": "[encoded data removed]",
      "text/plain": [
       "<Figure size 432x288 with 2 Axes>"
      ]
     },
     "metadata": {
      "needs_background": "light"
     },
     "output_type": "display_data"
    }
   ],
   "source": [
    "import seaborn as sns\n",
    "import matplotlib as plt\n",
    "ax = sns.heatmap(train_data.corr(), annot=True, cmap=\"YlGnBu\")"
   ]
  },
  {
   "cell_type": "code",
   "execution_count": 14,
   "id": "aea29db1",
   "metadata": {
    "execution": {
     "iopub.execute_input": "2022-08-10T10:00:54.719461Z",
     "iopub.status.busy": "2022-08-10T10:00:54.718801Z",
     "iopub.status.idle": "2022-08-10T10:00:54.751882Z",
     "shell.execute_reply": "2022-08-10T10:00:54.750773Z"
    },
    "papermill": {
     "duration": 0.045332,
     "end_time": "2022-08-10T10:00:54.754132",
     "exception": false,
     "start_time": "2022-08-10T10:00:54.708800",
     "status": "completed"
    },
    "tags": []
   },
   "outputs": [],
   "source": [
    "train_data[['Deck','Num','Side']] = train_data.Cabin.str.split('/',expand=True)\n",
    "test_data[['Deck','Num','Side']] = test_data.Cabin.str.split('/',expand=True)"
   ]
  },
  {
   "cell_type": "code",
   "execution_count": 15,
   "id": "cfb22b7d",
   "metadata": {
    "execution": {
     "iopub.execute_input": "2022-08-10T10:00:54.773620Z",
     "iopub.status.busy": "2022-08-10T10:00:54.772522Z",
     "iopub.status.idle": "2022-08-10T10:00:54.781536Z",
     "shell.execute_reply": "2022-08-10T10:00:54.780743Z"
    },
    "papermill": {
     "duration": 0.020911,
     "end_time": "2022-08-10T10:00:54.783705",
     "exception": false,
     "start_time": "2022-08-10T10:00:54.762794",
     "status": "completed"
    },
    "tags": []
   },
   "outputs": [],
   "source": [
    "train_data['total_spent']= train_data['RoomService']+ train_data['FoodCourt']+ train_data['ShoppingMall']+ train_data['Spa']+ train_data['VRDeck']\n",
    "test_data['total_spent']=test_data['RoomService']+test_data['FoodCourt']+test_data['ShoppingMall']+test_data['Spa']+test_data['VRDeck']"
   ]
  },
  {
   "cell_type": "code",
   "execution_count": 16,
   "id": "8c783d8d",
   "metadata": {
    "execution": {
     "iopub.execute_input": "2022-08-10T10:00:54.803178Z",
     "iopub.status.busy": "2022-08-10T10:00:54.802120Z",
     "iopub.status.idle": "2022-08-10T10:00:54.820913Z",
     "shell.execute_reply": "2022-08-10T10:00:54.819964Z"
    },
    "papermill": {
     "duration": 0.031147,
     "end_time": "2022-08-10T10:00:54.823387",
     "exception": false,
     "start_time": "2022-08-10T10:00:54.792240",
     "status": "completed"
    },
    "tags": []
   },
   "outputs": [],
   "source": [
    "train_data['AgeGroup'] = 0\n",
    "for i in range(6):\n",
    "    train_data.loc[(train_data.Age >= 10*i) & (train_data.Age < 10*(i + 1)), 'AgeGroup'] = i\n",
    "test_data['AgeGroup'] = 0\n",
    "for i in range(6):\n",
    "    test_data.loc[(test_data.Age >= 10*i) & (test_data.Age < 10*(i + 1)), 'AgeGroup'] = i"
   ]
  },
  {
   "cell_type": "code",
   "execution_count": 17,
   "id": "df8d1973",
   "metadata": {
    "execution": {
     "iopub.execute_input": "2022-08-10T10:00:54.842956Z",
     "iopub.status.busy": "2022-08-10T10:00:54.842544Z",
     "iopub.status.idle": "2022-08-10T10:00:54.876303Z",
     "shell.execute_reply": "2022-08-10T10:00:54.875041Z"
    },
    "papermill": {
     "duration": 0.046502,
     "end_time": "2022-08-10T10:00:54.878652",
     "exception": false,
     "start_time": "2022-08-10T10:00:54.832150",
     "status": "completed"
    },
    "tags": []
   },
   "outputs": [
    {
     "data": {
      "text/html": [
       "<div>\n",
       "<style scoped>\n",
       "    .dataframe tbody tr th:only-of-type {\n",
       "        vertical-align: middle;\n",
       "    }\n",
       "\n",
       "    .dataframe tbody tr th {\n",
       "        vertical-align: top;\n",
       "    }\n",
       "\n",
       "    .dataframe thead th {\n",
       "        text-align: right;\n",
       "    }\n",
       "</style>\n",
       "<table border=\"1\" class=\"dataframe\">\n",
       "  <thead>\n",
       "    <tr style=\"text-align: right;\">\n",
       "      <th></th>\n",
       "      <th>HomePlanet</th>\n",
       "      <th>CryoSleep</th>\n",
       "      <th>Cabin</th>\n",
       "      <th>Destination</th>\n",
       "      <th>Age</th>\n",
       "      <th>VIP</th>\n",
       "      <th>RoomService</th>\n",
       "      <th>FoodCourt</th>\n",
       "      <th>ShoppingMall</th>\n",
       "      <th>Spa</th>\n",
       "      <th>VRDeck</th>\n",
       "      <th>Name</th>\n",
       "      <th>Transported</th>\n",
       "      <th>Deck</th>\n",
       "      <th>Num</th>\n",
       "      <th>Side</th>\n",
       "      <th>total_spent</th>\n",
       "      <th>AgeGroup</th>\n",
       "    </tr>\n",
       "    <tr>\n",
       "      <th>PassengerId</th>\n",
       "      <th></th>\n",
       "      <th></th>\n",
       "      <th></th>\n",
       "      <th></th>\n",
       "      <th></th>\n",
       "      <th></th>\n",
       "      <th></th>\n",
       "      <th></th>\n",
       "      <th></th>\n",
       "      <th></th>\n",
       "      <th></th>\n",
       "      <th></th>\n",
       "      <th></th>\n",
       "      <th></th>\n",
       "      <th></th>\n",
       "      <th></th>\n",
       "      <th></th>\n",
       "      <th></th>\n",
       "    </tr>\n",
       "  </thead>\n",
       "  <tbody>\n",
       "    <tr>\n",
       "      <th>0001_01</th>\n",
       "      <td>Europa</td>\n",
       "      <td>False</td>\n",
       "      <td>B/0/P</td>\n",
       "      <td>TRAPPIST-1e</td>\n",
       "      <td>39.0</td>\n",
       "      <td>False</td>\n",
       "      <td>0.0</td>\n",
       "      <td>0.0</td>\n",
       "      <td>0.0</td>\n",
       "      <td>0.0</td>\n",
       "      <td>0.0</td>\n",
       "      <td>Maham Ofracculy</td>\n",
       "      <td>False</td>\n",
       "      <td>B</td>\n",
       "      <td>0</td>\n",
       "      <td>P</td>\n",
       "      <td>0.0</td>\n",
       "      <td>3</td>\n",
       "    </tr>\n",
       "    <tr>\n",
       "      <th>0002_01</th>\n",
       "      <td>Earth</td>\n",
       "      <td>False</td>\n",
       "      <td>F/0/S</td>\n",
       "      <td>TRAPPIST-1e</td>\n",
       "      <td>24.0</td>\n",
       "      <td>False</td>\n",
       "      <td>109.0</td>\n",
       "      <td>9.0</td>\n",
       "      <td>25.0</td>\n",
       "      <td>549.0</td>\n",
       "      <td>44.0</td>\n",
       "      <td>Juanna Vines</td>\n",
       "      <td>True</td>\n",
       "      <td>F</td>\n",
       "      <td>0</td>\n",
       "      <td>S</td>\n",
       "      <td>736.0</td>\n",
       "      <td>2</td>\n",
       "    </tr>\n",
       "    <tr>\n",
       "      <th>0003_01</th>\n",
       "      <td>Europa</td>\n",
       "      <td>False</td>\n",
       "      <td>A/0/S</td>\n",
       "      <td>TRAPPIST-1e</td>\n",
       "      <td>58.0</td>\n",
       "      <td>True</td>\n",
       "      <td>43.0</td>\n",
       "      <td>3576.0</td>\n",
       "      <td>0.0</td>\n",
       "      <td>6715.0</td>\n",
       "      <td>49.0</td>\n",
       "      <td>Altark Susent</td>\n",
       "      <td>False</td>\n",
       "      <td>A</td>\n",
       "      <td>0</td>\n",
       "      <td>S</td>\n",
       "      <td>10383.0</td>\n",
       "      <td>5</td>\n",
       "    </tr>\n",
       "    <tr>\n",
       "      <th>0003_02</th>\n",
       "      <td>Europa</td>\n",
       "      <td>False</td>\n",
       "      <td>A/0/S</td>\n",
       "      <td>TRAPPIST-1e</td>\n",
       "      <td>33.0</td>\n",
       "      <td>False</td>\n",
       "      <td>0.0</td>\n",
       "      <td>1283.0</td>\n",
       "      <td>371.0</td>\n",
       "      <td>3329.0</td>\n",
       "      <td>193.0</td>\n",
       "      <td>Solam Susent</td>\n",
       "      <td>False</td>\n",
       "      <td>A</td>\n",
       "      <td>0</td>\n",
       "      <td>S</td>\n",
       "      <td>5176.0</td>\n",
       "      <td>3</td>\n",
       "    </tr>\n",
       "    <tr>\n",
       "      <th>0004_01</th>\n",
       "      <td>Earth</td>\n",
       "      <td>False</td>\n",
       "      <td>F/1/S</td>\n",
       "      <td>TRAPPIST-1e</td>\n",
       "      <td>16.0</td>\n",
       "      <td>False</td>\n",
       "      <td>303.0</td>\n",
       "      <td>70.0</td>\n",
       "      <td>151.0</td>\n",
       "      <td>565.0</td>\n",
       "      <td>2.0</td>\n",
       "      <td>Willy Santantines</td>\n",
       "      <td>True</td>\n",
       "      <td>F</td>\n",
       "      <td>1</td>\n",
       "      <td>S</td>\n",
       "      <td>1091.0</td>\n",
       "      <td>1</td>\n",
       "    </tr>\n",
       "    <tr>\n",
       "      <th>...</th>\n",
       "      <td>...</td>\n",
       "      <td>...</td>\n",
       "      <td>...</td>\n",
       "      <td>...</td>\n",
       "      <td>...</td>\n",
       "      <td>...</td>\n",
       "      <td>...</td>\n",
       "      <td>...</td>\n",
       "      <td>...</td>\n",
       "      <td>...</td>\n",
       "      <td>...</td>\n",
       "      <td>...</td>\n",
       "      <td>...</td>\n",
       "      <td>...</td>\n",
       "      <td>...</td>\n",
       "      <td>...</td>\n",
       "      <td>...</td>\n",
       "      <td>...</td>\n",
       "    </tr>\n",
       "    <tr>\n",
       "      <th>9276_01</th>\n",
       "      <td>Europa</td>\n",
       "      <td>False</td>\n",
       "      <td>A/98/P</td>\n",
       "      <td>55 Cancri e</td>\n",
       "      <td>41.0</td>\n",
       "      <td>True</td>\n",
       "      <td>0.0</td>\n",
       "      <td>6819.0</td>\n",
       "      <td>0.0</td>\n",
       "      <td>1643.0</td>\n",
       "      <td>74.0</td>\n",
       "      <td>Gravior Noxnuther</td>\n",
       "      <td>False</td>\n",
       "      <td>A</td>\n",
       "      <td>98</td>\n",
       "      <td>P</td>\n",
       "      <td>8536.0</td>\n",
       "      <td>4</td>\n",
       "    </tr>\n",
       "    <tr>\n",
       "      <th>9278_01</th>\n",
       "      <td>Earth</td>\n",
       "      <td>True</td>\n",
       "      <td>G/1499/S</td>\n",
       "      <td>PSO J318.5-22</td>\n",
       "      <td>18.0</td>\n",
       "      <td>False</td>\n",
       "      <td>0.0</td>\n",
       "      <td>0.0</td>\n",
       "      <td>0.0</td>\n",
       "      <td>0.0</td>\n",
       "      <td>0.0</td>\n",
       "      <td>Kurta Mondalley</td>\n",
       "      <td>False</td>\n",
       "      <td>G</td>\n",
       "      <td>1499</td>\n",
       "      <td>S</td>\n",
       "      <td>0.0</td>\n",
       "      <td>1</td>\n",
       "    </tr>\n",
       "    <tr>\n",
       "      <th>9279_01</th>\n",
       "      <td>Earth</td>\n",
       "      <td>False</td>\n",
       "      <td>G/1500/S</td>\n",
       "      <td>TRAPPIST-1e</td>\n",
       "      <td>26.0</td>\n",
       "      <td>False</td>\n",
       "      <td>0.0</td>\n",
       "      <td>0.0</td>\n",
       "      <td>1872.0</td>\n",
       "      <td>1.0</td>\n",
       "      <td>0.0</td>\n",
       "      <td>Fayey Connon</td>\n",
       "      <td>True</td>\n",
       "      <td>G</td>\n",
       "      <td>1500</td>\n",
       "      <td>S</td>\n",
       "      <td>1873.0</td>\n",
       "      <td>2</td>\n",
       "    </tr>\n",
       "    <tr>\n",
       "      <th>9280_01</th>\n",
       "      <td>Europa</td>\n",
       "      <td>False</td>\n",
       "      <td>E/608/S</td>\n",
       "      <td>55 Cancri e</td>\n",
       "      <td>32.0</td>\n",
       "      <td>False</td>\n",
       "      <td>0.0</td>\n",
       "      <td>1049.0</td>\n",
       "      <td>0.0</td>\n",
       "      <td>353.0</td>\n",
       "      <td>3235.0</td>\n",
       "      <td>Celeon Hontichre</td>\n",
       "      <td>False</td>\n",
       "      <td>E</td>\n",
       "      <td>608</td>\n",
       "      <td>S</td>\n",
       "      <td>4637.0</td>\n",
       "      <td>3</td>\n",
       "    </tr>\n",
       "    <tr>\n",
       "      <th>9280_02</th>\n",
       "      <td>Europa</td>\n",
       "      <td>False</td>\n",
       "      <td>E/608/S</td>\n",
       "      <td>TRAPPIST-1e</td>\n",
       "      <td>44.0</td>\n",
       "      <td>False</td>\n",
       "      <td>126.0</td>\n",
       "      <td>4688.0</td>\n",
       "      <td>0.0</td>\n",
       "      <td>0.0</td>\n",
       "      <td>12.0</td>\n",
       "      <td>Propsh Hontichre</td>\n",
       "      <td>True</td>\n",
       "      <td>E</td>\n",
       "      <td>608</td>\n",
       "      <td>S</td>\n",
       "      <td>4826.0</td>\n",
       "      <td>4</td>\n",
       "    </tr>\n",
       "  </tbody>\n",
       "</table>\n",
       "<p>8693 rows × 18 columns</p>\n",
       "</div>"
      ],
      "text/plain": [
       "            HomePlanet  CryoSleep     Cabin    Destination   Age    VIP  \\\n",
       "PassengerId                                                               \n",
       "0001_01         Europa      False     B/0/P    TRAPPIST-1e  39.0  False   \n",
       "0002_01          Earth      False     F/0/S    TRAPPIST-1e  24.0  False   \n",
       "0003_01         Europa      False     A/0/S    TRAPPIST-1e  58.0   True   \n",
       "0003_02         Europa      False     A/0/S    TRAPPIST-1e  33.0  False   \n",
       "0004_01          Earth      False     F/1/S    TRAPPIST-1e  16.0  False   \n",
       "...                ...        ...       ...            ...   ...    ...   \n",
       "9276_01         Europa      False    A/98/P    55 Cancri e  41.0   True   \n",
       "9278_01          Earth       True  G/1499/S  PSO J318.5-22  18.0  False   \n",
       "9279_01          Earth      False  G/1500/S    TRAPPIST-1e  26.0  False   \n",
       "9280_01         Europa      False   E/608/S    55 Cancri e  32.0  False   \n",
       "9280_02         Europa      False   E/608/S    TRAPPIST-1e  44.0  False   \n",
       "\n",
       "             RoomService  FoodCourt  ShoppingMall     Spa  VRDeck  \\\n",
       "PassengerId                                                         \n",
       "0001_01              0.0        0.0           0.0     0.0     0.0   \n",
       "0002_01            109.0        9.0          25.0   549.0    44.0   \n",
       "0003_01             43.0     3576.0           0.0  6715.0    49.0   \n",
       "0003_02              0.0     1283.0         371.0  3329.0   193.0   \n",
       "0004_01            303.0       70.0         151.0   565.0     2.0   \n",
       "...                  ...        ...           ...     ...     ...   \n",
       "9276_01              0.0     6819.0           0.0  1643.0    74.0   \n",
       "9278_01              0.0        0.0           0.0     0.0     0.0   \n",
       "9279_01              0.0        0.0        1872.0     1.0     0.0   \n",
       "9280_01              0.0     1049.0           0.0   353.0  3235.0   \n",
       "9280_02            126.0     4688.0           0.0     0.0    12.0   \n",
       "\n",
       "                          Name  Transported Deck   Num Side  total_spent  \\\n",
       "PassengerId                                                                \n",
       "0001_01        Maham Ofracculy        False    B     0    P          0.0   \n",
       "0002_01           Juanna Vines         True    F     0    S        736.0   \n",
       "0003_01          Altark Susent        False    A     0    S      10383.0   \n",
       "0003_02           Solam Susent        False    A     0    S       5176.0   \n",
       "0004_01      Willy Santantines         True    F     1    S       1091.0   \n",
       "...                        ...          ...  ...   ...  ...          ...   \n",
       "9276_01      Gravior Noxnuther        False    A    98    P       8536.0   \n",
       "9278_01        Kurta Mondalley        False    G  1499    S          0.0   \n",
       "9279_01           Fayey Connon         True    G  1500    S       1873.0   \n",
       "9280_01       Celeon Hontichre        False    E   608    S       4637.0   \n",
       "9280_02       Propsh Hontichre         True    E   608    S       4826.0   \n",
       "\n",
       "             AgeGroup  \n",
       "PassengerId            \n",
       "0001_01             3  \n",
       "0002_01             2  \n",
       "0003_01             5  \n",
       "0003_02             3  \n",
       "0004_01             1  \n",
       "...               ...  \n",
       "9276_01             4  \n",
       "9278_01             1  \n",
       "9279_01             2  \n",
       "9280_01             3  \n",
       "9280_02             4  \n",
       "\n",
       "[8693 rows x 18 columns]"
      ]
     },
     "execution_count": 17,
     "metadata": {},
     "output_type": "execute_result"
    }
   ],
   "source": [
    "train_data"
   ]
  },
  {
   "cell_type": "code",
   "execution_count": 18,
   "id": "9df47146",
   "metadata": {
    "execution": {
     "iopub.execute_input": "2022-08-10T10:00:54.899433Z",
     "iopub.status.busy": "2022-08-10T10:00:54.899065Z",
     "iopub.status.idle": "2022-08-10T10:00:55.119946Z",
     "shell.execute_reply": "2022-08-10T10:00:55.118660Z"
    },
    "papermill": {
     "duration": 0.23564,
     "end_time": "2022-08-10T10:00:55.123908",
     "exception": false,
     "start_time": "2022-08-10T10:00:54.888268",
     "status": "completed"
    },
    "tags": []
   },
   "outputs": [
    {
     "name": "stdout",
     "output_type": "stream",
     "text": [
      "HomePlanet\n",
      "CryoSleep\n",
      "Destination\n",
      "VIP\n",
      "Deck\n",
      "Side\n",
      "Num\n"
     ]
    }
   ],
   "source": [
    "from sklearn.preprocessing import LabelEncoder\n",
    "\n",
    "categorical_cols= ['HomePlanet','CryoSleep','Destination','VIP','Deck','Side','Num']\n",
    "for i in categorical_cols:\n",
    "    print(i)\n",
    "    le=LabelEncoder()\n",
    "    arr=np.concatenate((train_data[i], test_data[i])).astype(str)\n",
    "    le.fit(arr)\n",
    "    train_data[i]=le.transform(train_data[i].astype(str))\n",
    "    test_data[i]=le.transform(test_data[i].astype(str))"
   ]
  },
  {
   "cell_type": "code",
   "execution_count": 19,
   "id": "c453777d",
   "metadata": {
    "execution": {
     "iopub.execute_input": "2022-08-10T10:00:55.145716Z",
     "iopub.status.busy": "2022-08-10T10:00:55.144866Z",
     "iopub.status.idle": "2022-08-10T10:00:55.176843Z",
     "shell.execute_reply": "2022-08-10T10:00:55.175699Z"
    },
    "papermill": {
     "duration": 0.046004,
     "end_time": "2022-08-10T10:00:55.179977",
     "exception": false,
     "start_time": "2022-08-10T10:00:55.133973",
     "status": "completed"
    },
    "tags": []
   },
   "outputs": [
    {
     "data": {
      "text/html": [
       "<div>\n",
       "<style scoped>\n",
       "    .dataframe tbody tr th:only-of-type {\n",
       "        vertical-align: middle;\n",
       "    }\n",
       "\n",
       "    .dataframe tbody tr th {\n",
       "        vertical-align: top;\n",
       "    }\n",
       "\n",
       "    .dataframe thead th {\n",
       "        text-align: right;\n",
       "    }\n",
       "</style>\n",
       "<table border=\"1\" class=\"dataframe\">\n",
       "  <thead>\n",
       "    <tr style=\"text-align: right;\">\n",
       "      <th></th>\n",
       "      <th>HomePlanet</th>\n",
       "      <th>CryoSleep</th>\n",
       "      <th>Cabin</th>\n",
       "      <th>Destination</th>\n",
       "      <th>Age</th>\n",
       "      <th>VIP</th>\n",
       "      <th>RoomService</th>\n",
       "      <th>FoodCourt</th>\n",
       "      <th>ShoppingMall</th>\n",
       "      <th>Spa</th>\n",
       "      <th>VRDeck</th>\n",
       "      <th>Name</th>\n",
       "      <th>Transported</th>\n",
       "      <th>Deck</th>\n",
       "      <th>Num</th>\n",
       "      <th>Side</th>\n",
       "      <th>total_spent</th>\n",
       "      <th>AgeGroup</th>\n",
       "    </tr>\n",
       "    <tr>\n",
       "      <th>PassengerId</th>\n",
       "      <th></th>\n",
       "      <th></th>\n",
       "      <th></th>\n",
       "      <th></th>\n",
       "      <th></th>\n",
       "      <th></th>\n",
       "      <th></th>\n",
       "      <th></th>\n",
       "      <th></th>\n",
       "      <th></th>\n",
       "      <th></th>\n",
       "      <th></th>\n",
       "      <th></th>\n",
       "      <th></th>\n",
       "      <th></th>\n",
       "      <th></th>\n",
       "      <th></th>\n",
       "      <th></th>\n",
       "    </tr>\n",
       "  </thead>\n",
       "  <tbody>\n",
       "    <tr>\n",
       "      <th>0001_01</th>\n",
       "      <td>1</td>\n",
       "      <td>0</td>\n",
       "      <td>B/0/P</td>\n",
       "      <td>2</td>\n",
       "      <td>39.0</td>\n",
       "      <td>0</td>\n",
       "      <td>0.0</td>\n",
       "      <td>0.0</td>\n",
       "      <td>0.0</td>\n",
       "      <td>0.0</td>\n",
       "      <td>0.0</td>\n",
       "      <td>Maham Ofracculy</td>\n",
       "      <td>False</td>\n",
       "      <td>1</td>\n",
       "      <td>0</td>\n",
       "      <td>0</td>\n",
       "      <td>0.0</td>\n",
       "      <td>3</td>\n",
       "    </tr>\n",
       "    <tr>\n",
       "      <th>0002_01</th>\n",
       "      <td>0</td>\n",
       "      <td>0</td>\n",
       "      <td>F/0/S</td>\n",
       "      <td>2</td>\n",
       "      <td>24.0</td>\n",
       "      <td>0</td>\n",
       "      <td>109.0</td>\n",
       "      <td>9.0</td>\n",
       "      <td>25.0</td>\n",
       "      <td>549.0</td>\n",
       "      <td>44.0</td>\n",
       "      <td>Juanna Vines</td>\n",
       "      <td>True</td>\n",
       "      <td>5</td>\n",
       "      <td>0</td>\n",
       "      <td>1</td>\n",
       "      <td>736.0</td>\n",
       "      <td>2</td>\n",
       "    </tr>\n",
       "    <tr>\n",
       "      <th>0003_01</th>\n",
       "      <td>1</td>\n",
       "      <td>0</td>\n",
       "      <td>A/0/S</td>\n",
       "      <td>2</td>\n",
       "      <td>58.0</td>\n",
       "      <td>1</td>\n",
       "      <td>43.0</td>\n",
       "      <td>3576.0</td>\n",
       "      <td>0.0</td>\n",
       "      <td>6715.0</td>\n",
       "      <td>49.0</td>\n",
       "      <td>Altark Susent</td>\n",
       "      <td>False</td>\n",
       "      <td>0</td>\n",
       "      <td>0</td>\n",
       "      <td>1</td>\n",
       "      <td>10383.0</td>\n",
       "      <td>5</td>\n",
       "    </tr>\n",
       "    <tr>\n",
       "      <th>0003_02</th>\n",
       "      <td>1</td>\n",
       "      <td>0</td>\n",
       "      <td>A/0/S</td>\n",
       "      <td>2</td>\n",
       "      <td>33.0</td>\n",
       "      <td>0</td>\n",
       "      <td>0.0</td>\n",
       "      <td>1283.0</td>\n",
       "      <td>371.0</td>\n",
       "      <td>3329.0</td>\n",
       "      <td>193.0</td>\n",
       "      <td>Solam Susent</td>\n",
       "      <td>False</td>\n",
       "      <td>0</td>\n",
       "      <td>0</td>\n",
       "      <td>1</td>\n",
       "      <td>5176.0</td>\n",
       "      <td>3</td>\n",
       "    </tr>\n",
       "    <tr>\n",
       "      <th>0004_01</th>\n",
       "      <td>0</td>\n",
       "      <td>0</td>\n",
       "      <td>F/1/S</td>\n",
       "      <td>2</td>\n",
       "      <td>16.0</td>\n",
       "      <td>0</td>\n",
       "      <td>303.0</td>\n",
       "      <td>70.0</td>\n",
       "      <td>151.0</td>\n",
       "      <td>565.0</td>\n",
       "      <td>2.0</td>\n",
       "      <td>Willy Santantines</td>\n",
       "      <td>True</td>\n",
       "      <td>5</td>\n",
       "      <td>1</td>\n",
       "      <td>1</td>\n",
       "      <td>1091.0</td>\n",
       "      <td>1</td>\n",
       "    </tr>\n",
       "    <tr>\n",
       "      <th>...</th>\n",
       "      <td>...</td>\n",
       "      <td>...</td>\n",
       "      <td>...</td>\n",
       "      <td>...</td>\n",
       "      <td>...</td>\n",
       "      <td>...</td>\n",
       "      <td>...</td>\n",
       "      <td>...</td>\n",
       "      <td>...</td>\n",
       "      <td>...</td>\n",
       "      <td>...</td>\n",
       "      <td>...</td>\n",
       "      <td>...</td>\n",
       "      <td>...</td>\n",
       "      <td>...</td>\n",
       "      <td>...</td>\n",
       "      <td>...</td>\n",
       "      <td>...</td>\n",
       "    </tr>\n",
       "    <tr>\n",
       "      <th>9276_01</th>\n",
       "      <td>1</td>\n",
       "      <td>0</td>\n",
       "      <td>A/98/P</td>\n",
       "      <td>0</td>\n",
       "      <td>41.0</td>\n",
       "      <td>1</td>\n",
       "      <td>0.0</td>\n",
       "      <td>6819.0</td>\n",
       "      <td>0.0</td>\n",
       "      <td>1643.0</td>\n",
       "      <td>74.0</td>\n",
       "      <td>Gravior Noxnuther</td>\n",
       "      <td>False</td>\n",
       "      <td>0</td>\n",
       "      <td>1872</td>\n",
       "      <td>0</td>\n",
       "      <td>8536.0</td>\n",
       "      <td>4</td>\n",
       "    </tr>\n",
       "    <tr>\n",
       "      <th>9278_01</th>\n",
       "      <td>0</td>\n",
       "      <td>1</td>\n",
       "      <td>G/1499/S</td>\n",
       "      <td>1</td>\n",
       "      <td>18.0</td>\n",
       "      <td>0</td>\n",
       "      <td>0.0</td>\n",
       "      <td>0.0</td>\n",
       "      <td>0.0</td>\n",
       "      <td>0.0</td>\n",
       "      <td>0.0</td>\n",
       "      <td>Kurta Mondalley</td>\n",
       "      <td>False</td>\n",
       "      <td>6</td>\n",
       "      <td>556</td>\n",
       "      <td>1</td>\n",
       "      <td>0.0</td>\n",
       "      <td>1</td>\n",
       "    </tr>\n",
       "    <tr>\n",
       "      <th>9279_01</th>\n",
       "      <td>0</td>\n",
       "      <td>0</td>\n",
       "      <td>G/1500/S</td>\n",
       "      <td>2</td>\n",
       "      <td>26.0</td>\n",
       "      <td>0</td>\n",
       "      <td>0.0</td>\n",
       "      <td>0.0</td>\n",
       "      <td>1872.0</td>\n",
       "      <td>1.0</td>\n",
       "      <td>0.0</td>\n",
       "      <td>Fayey Connon</td>\n",
       "      <td>True</td>\n",
       "      <td>6</td>\n",
       "      <td>559</td>\n",
       "      <td>1</td>\n",
       "      <td>1873.0</td>\n",
       "      <td>2</td>\n",
       "    </tr>\n",
       "    <tr>\n",
       "      <th>9280_01</th>\n",
       "      <td>1</td>\n",
       "      <td>0</td>\n",
       "      <td>E/608/S</td>\n",
       "      <td>0</td>\n",
       "      <td>32.0</td>\n",
       "      <td>0</td>\n",
       "      <td>0.0</td>\n",
       "      <td>1049.0</td>\n",
       "      <td>0.0</td>\n",
       "      <td>353.0</td>\n",
       "      <td>3235.0</td>\n",
       "      <td>Celeon Hontichre</td>\n",
       "      <td>False</td>\n",
       "      <td>4</td>\n",
       "      <td>1460</td>\n",
       "      <td>1</td>\n",
       "      <td>4637.0</td>\n",
       "      <td>3</td>\n",
       "    </tr>\n",
       "    <tr>\n",
       "      <th>9280_02</th>\n",
       "      <td>1</td>\n",
       "      <td>0</td>\n",
       "      <td>E/608/S</td>\n",
       "      <td>2</td>\n",
       "      <td>44.0</td>\n",
       "      <td>0</td>\n",
       "      <td>126.0</td>\n",
       "      <td>4688.0</td>\n",
       "      <td>0.0</td>\n",
       "      <td>0.0</td>\n",
       "      <td>12.0</td>\n",
       "      <td>Propsh Hontichre</td>\n",
       "      <td>True</td>\n",
       "      <td>4</td>\n",
       "      <td>1460</td>\n",
       "      <td>1</td>\n",
       "      <td>4826.0</td>\n",
       "      <td>4</td>\n",
       "    </tr>\n",
       "  </tbody>\n",
       "</table>\n",
       "<p>8693 rows × 18 columns</p>\n",
       "</div>"
      ],
      "text/plain": [
       "             HomePlanet  CryoSleep     Cabin  Destination   Age  VIP  \\\n",
       "PassengerId                                                            \n",
       "0001_01               1          0     B/0/P            2  39.0    0   \n",
       "0002_01               0          0     F/0/S            2  24.0    0   \n",
       "0003_01               1          0     A/0/S            2  58.0    1   \n",
       "0003_02               1          0     A/0/S            2  33.0    0   \n",
       "0004_01               0          0     F/1/S            2  16.0    0   \n",
       "...                 ...        ...       ...          ...   ...  ...   \n",
       "9276_01               1          0    A/98/P            0  41.0    1   \n",
       "9278_01               0          1  G/1499/S            1  18.0    0   \n",
       "9279_01               0          0  G/1500/S            2  26.0    0   \n",
       "9280_01               1          0   E/608/S            0  32.0    0   \n",
       "9280_02               1          0   E/608/S            2  44.0    0   \n",
       "\n",
       "             RoomService  FoodCourt  ShoppingMall     Spa  VRDeck  \\\n",
       "PassengerId                                                         \n",
       "0001_01              0.0        0.0           0.0     0.0     0.0   \n",
       "0002_01            109.0        9.0          25.0   549.0    44.0   \n",
       "0003_01             43.0     3576.0           0.0  6715.0    49.0   \n",
       "0003_02              0.0     1283.0         371.0  3329.0   193.0   \n",
       "0004_01            303.0       70.0         151.0   565.0     2.0   \n",
       "...                  ...        ...           ...     ...     ...   \n",
       "9276_01              0.0     6819.0           0.0  1643.0    74.0   \n",
       "9278_01              0.0        0.0           0.0     0.0     0.0   \n",
       "9279_01              0.0        0.0        1872.0     1.0     0.0   \n",
       "9280_01              0.0     1049.0           0.0   353.0  3235.0   \n",
       "9280_02            126.0     4688.0           0.0     0.0    12.0   \n",
       "\n",
       "                          Name  Transported  Deck   Num  Side  total_spent  \\\n",
       "PassengerId                                                                  \n",
       "0001_01        Maham Ofracculy        False     1     0     0          0.0   \n",
       "0002_01           Juanna Vines         True     5     0     1        736.0   \n",
       "0003_01          Altark Susent        False     0     0     1      10383.0   \n",
       "0003_02           Solam Susent        False     0     0     1       5176.0   \n",
       "0004_01      Willy Santantines         True     5     1     1       1091.0   \n",
       "...                        ...          ...   ...   ...   ...          ...   \n",
       "9276_01      Gravior Noxnuther        False     0  1872     0       8536.0   \n",
       "9278_01        Kurta Mondalley        False     6   556     1          0.0   \n",
       "9279_01           Fayey Connon         True     6   559     1       1873.0   \n",
       "9280_01       Celeon Hontichre        False     4  1460     1       4637.0   \n",
       "9280_02       Propsh Hontichre         True     4  1460     1       4826.0   \n",
       "\n",
       "             AgeGroup  \n",
       "PassengerId            \n",
       "0001_01             3  \n",
       "0002_01             2  \n",
       "0003_01             5  \n",
       "0003_02             3  \n",
       "0004_01             1  \n",
       "...               ...  \n",
       "9276_01             4  \n",
       "9278_01             1  \n",
       "9279_01             2  \n",
       "9280_01             3  \n",
       "9280_02             4  \n",
       "\n",
       "[8693 rows x 18 columns]"
      ]
     },
     "execution_count": 19,
     "metadata": {},
     "output_type": "execute_result"
    }
   ],
   "source": [
    "train_data"
   ]
  },
  {
   "cell_type": "code",
   "execution_count": 20,
   "id": "4de14c58",
   "metadata": {
    "execution": {
     "iopub.execute_input": "2022-08-10T10:00:55.208694Z",
     "iopub.status.busy": "2022-08-10T10:00:55.207384Z",
     "iopub.status.idle": "2022-08-10T10:00:55.218705Z",
     "shell.execute_reply": "2022-08-10T10:00:55.217765Z"
    },
    "papermill": {
     "duration": 0.029685,
     "end_time": "2022-08-10T10:00:55.221606",
     "exception": false,
     "start_time": "2022-08-10T10:00:55.191921",
     "status": "completed"
    },
    "tags": []
   },
   "outputs": [],
   "source": [
    "train_data= train_data.drop(['Name','Cabin'],axis=1)\n",
    "test_data= test_data.drop(['Name','Cabin'],axis=1)"
   ]
  },
  {
   "cell_type": "code",
   "execution_count": 21,
   "id": "940a48f7",
   "metadata": {
    "execution": {
     "iopub.execute_input": "2022-08-10T10:00:55.248655Z",
     "iopub.status.busy": "2022-08-10T10:00:55.247380Z",
     "iopub.status.idle": "2022-08-10T10:00:55.676132Z",
     "shell.execute_reply": "2022-08-10T10:00:55.674972Z"
    },
    "papermill": {
     "duration": 0.44468,
     "end_time": "2022-08-10T10:00:55.678941",
     "exception": false,
     "start_time": "2022-08-10T10:00:55.234261",
     "status": "completed"
    },
    "tags": []
   },
   "outputs": [
    {
     "data": {
      "image/png": "[encoded data removed]",
      "text/plain": [
       "<Figure size 432x288 with 2 Axes>"
      ]
     },
     "metadata": {
      "needs_background": "light"
     },
     "output_type": "display_data"
    }
   ],
   "source": [
    "sns.heatmap(train_data.corr(), cmap=\"YlGnBu\");"
   ]
  },
  {
   "cell_type": "code",
   "execution_count": 22,
   "id": "9cd14627",
   "metadata": {
    "execution": {
     "iopub.execute_input": "2022-08-10T10:00:55.701743Z",
     "iopub.status.busy": "2022-08-10T10:00:55.701329Z",
     "iopub.status.idle": "2022-08-10T10:00:55.710810Z",
     "shell.execute_reply": "2022-08-10T10:00:55.709658Z"
    },
    "papermill": {
     "duration": 0.023708,
     "end_time": "2022-08-10T10:00:55.713125",
     "exception": false,
     "start_time": "2022-08-10T10:00:55.689417",
     "status": "completed"
    },
    "tags": []
   },
   "outputs": [],
   "source": [
    "train_data['Transported']=train_data['Transported'].replace({True:1,False:0})"
   ]
  },
  {
   "cell_type": "code",
   "execution_count": 23,
   "id": "03f9f153",
   "metadata": {
    "execution": {
     "iopub.execute_input": "2022-08-10T10:00:55.736473Z",
     "iopub.status.busy": "2022-08-10T10:00:55.736059Z",
     "iopub.status.idle": "2022-08-10T10:00:55.743147Z",
     "shell.execute_reply": "2022-08-10T10:00:55.742377Z"
    },
    "papermill": {
     "duration": 0.021253,
     "end_time": "2022-08-10T10:00:55.745221",
     "exception": false,
     "start_time": "2022-08-10T10:00:55.723968",
     "status": "completed"
    },
    "tags": []
   },
   "outputs": [],
   "source": [
    "X=train_data.drop('Transported',axis=1)\n",
    "y = train_data['Transported']"
   ]
  },
  {
   "cell_type": "code",
   "execution_count": 24,
   "id": "2ceb28a2",
   "metadata": {
    "execution": {
     "iopub.execute_input": "2022-08-10T10:00:55.768123Z",
     "iopub.status.busy": "2022-08-10T10:00:55.767164Z",
     "iopub.status.idle": "2022-08-10T10:00:55.780072Z",
     "shell.execute_reply": "2022-08-10T10:00:55.778669Z"
    },
    "papermill": {
     "duration": 0.026588,
     "end_time": "2022-08-10T10:00:55.782284",
     "exception": false,
     "start_time": "2022-08-10T10:00:55.755696",
     "status": "completed"
    },
    "tags": []
   },
   "outputs": [
    {
     "name": "stdout",
     "output_type": "stream",
     "text": [
      "<class 'pandas.core.frame.DataFrame'>\n",
      "Index: 8693 entries, 0001_01 to 9280_02\n",
      "Data columns (total 15 columns):\n",
      " #   Column        Non-Null Count  Dtype  \n",
      "---  ------        --------------  -----  \n",
      " 0   HomePlanet    8693 non-null   int64  \n",
      " 1   CryoSleep     8693 non-null   int64  \n",
      " 2   Destination   8693 non-null   int64  \n",
      " 3   Age           8693 non-null   float64\n",
      " 4   VIP           8693 non-null   int64  \n",
      " 5   RoomService   8693 non-null   float64\n",
      " 6   FoodCourt     8693 non-null   float64\n",
      " 7   ShoppingMall  8693 non-null   float64\n",
      " 8   Spa           8693 non-null   float64\n",
      " 9   VRDeck        8693 non-null   float64\n",
      " 10  Deck          8693 non-null   int64  \n",
      " 11  Num           8693 non-null   int64  \n",
      " 12  Side          8693 non-null   int64  \n",
      " 13  total_spent   8693 non-null   float64\n",
      " 14  AgeGroup      8693 non-null   int64  \n",
      "dtypes: float64(7), int64(8)\n",
      "memory usage: 1.1+ MB\n"
     ]
    }
   ],
   "source": [
    "X.info()"
   ]
  },
  {
   "cell_type": "code",
   "execution_count": 25,
   "id": "5274c660",
   "metadata": {
    "execution": {
     "iopub.execute_input": "2022-08-10T10:00:55.806443Z",
     "iopub.status.busy": "2022-08-10T10:00:55.805331Z",
     "iopub.status.idle": "2022-08-10T10:00:55.876559Z",
     "shell.execute_reply": "2022-08-10T10:00:55.875394Z"
    },
    "papermill": {
     "duration": 0.086107,
     "end_time": "2022-08-10T10:00:55.879293",
     "exception": false,
     "start_time": "2022-08-10T10:00:55.793186",
     "status": "completed"
    },
    "tags": []
   },
   "outputs": [],
   "source": [
    "from sklearn.model_selection import train_test_split\n",
    "X_train, X_val, y_train, y_val = train_test_split(X, y, test_size=0.25, random_state=0)"
   ]
  },
  {
   "cell_type": "code",
   "execution_count": 26,
   "id": "0e1bbebb",
   "metadata": {
    "execution": {
     "iopub.execute_input": "2022-08-10T10:00:55.902328Z",
     "iopub.status.busy": "2022-08-10T10:00:55.901834Z",
     "iopub.status.idle": "2022-08-10T10:00:56.528793Z",
     "shell.execute_reply": "2022-08-10T10:00:56.527273Z"
    },
    "papermill": {
     "duration": 0.641856,
     "end_time": "2022-08-10T10:00:56.531782",
     "exception": false,
     "start_time": "2022-08-10T10:00:55.889926",
     "status": "completed"
    },
    "tags": []
   },
   "outputs": [
    {
     "data": {
      "text/plain": [
       "RandomForestClassifier(max_depth=2, random_state=0)"
      ]
     },
     "execution_count": 26,
     "metadata": {},
     "output_type": "execute_result"
    }
   ],
   "source": [
    "from sklearn.ensemble import RandomForestClassifier\n",
    "from sklearn.datasets import make_classification\n",
    "X, y = make_classification(n_samples=1000, n_features=4, n_informative=2, n_redundant=0, random_state=0, shuffle=False)\n",
    "model = RandomForestClassifier(max_depth=2, random_state=0)\n",
    "model.fit(X_train, y_train)"
   ]
  },
  {
   "cell_type": "code",
   "execution_count": 27,
   "id": "488cc66f",
   "metadata": {
    "execution": {
     "iopub.execute_input": "2022-08-10T10:00:56.556540Z",
     "iopub.status.busy": "2022-08-10T10:00:56.556126Z",
     "iopub.status.idle": "2022-08-10T10:00:56.653823Z",
     "shell.execute_reply": "2022-08-10T10:00:56.652392Z"
    },
    "papermill": {
     "duration": 0.11377,
     "end_time": "2022-08-10T10:00:56.657012",
     "exception": false,
     "start_time": "2022-08-10T10:00:56.543242",
     "status": "completed"
    },
    "tags": []
   },
   "outputs": [
    {
     "name": "stdout",
     "output_type": "stream",
     "text": [
      "0.739223807332413\n",
      "0.7309107635694572\n"
     ]
    }
   ],
   "source": [
    "from sklearn.metrics import accuracy_score\n",
    "pred_y=model.predict(X_val)\n",
    "\n",
    "pred=model.predict(X_train)\n",
    "    \n",
    "print(accuracy_score(y_train.values,pred))\n",
    "print(accuracy_score(y_val.values,pred_y))"
   ]
  },
  {
   "cell_type": "code",
   "execution_count": 28,
   "id": "b2129d79",
   "metadata": {
    "execution": {
     "iopub.execute_input": "2022-08-10T10:00:56.680539Z",
     "iopub.status.busy": "2022-08-10T10:00:56.680146Z",
     "iopub.status.idle": "2022-08-10T10:00:56.740654Z",
     "shell.execute_reply": "2022-08-10T10:00:56.739403Z"
    },
    "papermill": {
     "duration": 0.075021,
     "end_time": "2022-08-10T10:00:56.743286",
     "exception": false,
     "start_time": "2022-08-10T10:00:56.668265",
     "status": "completed"
    },
    "tags": []
   },
   "outputs": [
    {
     "data": {
      "text/html": [
       "<div>\n",
       "<style scoped>\n",
       "    .dataframe tbody tr th:only-of-type {\n",
       "        vertical-align: middle;\n",
       "    }\n",
       "\n",
       "    .dataframe tbody tr th {\n",
       "        vertical-align: top;\n",
       "    }\n",
       "\n",
       "    .dataframe thead th {\n",
       "        text-align: right;\n",
       "    }\n",
       "</style>\n",
       "<table border=\"1\" class=\"dataframe\">\n",
       "  <thead>\n",
       "    <tr style=\"text-align: right;\">\n",
       "      <th></th>\n",
       "      <th>Transported</th>\n",
       "    </tr>\n",
       "    <tr>\n",
       "      <th>PassengerId</th>\n",
       "      <th></th>\n",
       "    </tr>\n",
       "  </thead>\n",
       "  <tbody>\n",
       "    <tr>\n",
       "      <th>0013_01</th>\n",
       "      <td>True</td>\n",
       "    </tr>\n",
       "    <tr>\n",
       "      <th>0018_01</th>\n",
       "      <td>False</td>\n",
       "    </tr>\n",
       "    <tr>\n",
       "      <th>0019_01</th>\n",
       "      <td>True</td>\n",
       "    </tr>\n",
       "    <tr>\n",
       "      <th>0021_01</th>\n",
       "      <td>False</td>\n",
       "    </tr>\n",
       "    <tr>\n",
       "      <th>0023_01</th>\n",
       "      <td>False</td>\n",
       "    </tr>\n",
       "  </tbody>\n",
       "</table>\n",
       "</div>"
      ],
      "text/plain": [
       "             Transported\n",
       "PassengerId             \n",
       "0013_01             True\n",
       "0018_01            False\n",
       "0019_01             True\n",
       "0021_01            False\n",
       "0023_01            False"
      ]
     },
     "execution_count": 28,
     "metadata": {},
     "output_type": "execute_result"
    }
   ],
   "source": [
    "y_pred = model.predict(test_data)\n",
    "\n",
    "sub=pd.DataFrame({'Transported':y_pred.astype(bool)},index=test_data.index)\n",
    "\n",
    "sub.head()"
   ]
  },
  {
   "cell_type": "code",
   "execution_count": 29,
   "id": "faf673ac",
   "metadata": {
    "execution": {
     "iopub.execute_input": "2022-08-10T10:00:56.767238Z",
     "iopub.status.busy": "2022-08-10T10:00:56.766224Z",
     "iopub.status.idle": "2022-08-10T10:00:56.777039Z",
     "shell.execute_reply": "2022-08-10T10:00:56.776018Z"
    },
    "papermill": {
     "duration": 0.025327,
     "end_time": "2022-08-10T10:00:56.779471",
     "exception": false,
     "start_time": "2022-08-10T10:00:56.754144",
     "status": "completed"
    },
    "tags": []
   },
   "outputs": [],
   "source": [
    "sub.to_csv('submission')"
   ]
  },
  {
   "cell_type": "code",
   "execution_count": null,
   "id": "06d9d48b",
   "metadata": {
    "papermill": {
     "duration": 0.010287,
     "end_time": "2022-08-10T10:00:56.800467",
     "exception": false,
     "start_time": "2022-08-10T10:00:56.790180",
     "status": "completed"
    },
    "tags": []
   },
   "outputs": [],
   "source": []
  }
 ],
 "metadata": {
  "kernelspec": {
   "display_name": "Python 3",
   "language": "python",
   "name": "python3"
  },
  "language_info": {
   "codemirror_mode": {
    "name": "ipython",
    "version": 3
   },
   "file_extension": ".py",
   "mimetype": "text/x-python",
   "name": "python",
   "nbconvert_exporter": "python",
   "pygments_lexer": "ipython3",
   "version": "3.7.12"
  },
  "papermill": {
   "default_parameters": {},
   "duration": 14.029846,
   "end_time": "2022-08-10T10:00:57.533351",
   "environment_variables": {},
   "exception": null,
   "input_path": "__notebook__.ipynb",
   "output_path": "__notebook__.ipynb",
   "parameters": {},
   "start_time": "2022-08-10T10:00:43.503505",
   "version": "2.3.4"
  }
 },
 "nbformat": 4,
 "nbformat_minor": 5
}
